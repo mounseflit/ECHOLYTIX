{
 "cells": [
  {
   "cell_type": "markdown",
   "id": "c04efb5d",
   "metadata": {},
   "source": [
    "# 🧠 ECHOLYTIX - Proof of Concept Notebook\n",
    "\n",
    "This notebook demonstrates the scientific foundation of ECHOLYTIX, an AI-powered urban noise monitoring system that integrates IoT, machine learning, and natural language processing to support smart city development in Morocco."
   ]
  },
  {
   "cell_type": "markdown",
   "id": "3c0d17c2",
   "metadata": {},
   "source": [
    "## 📥 1. Load Dataset"
   ]
  },
  {
   "cell_type": "code",
   "execution_count": null,
   "id": "09735500",
   "metadata": {},
   "outputs": [],
   "source": [
    "import pandas as pd\n",
    "import numpy as np\n",
    "\n",
    "# Load dataset\n",
    "file_path = '../data/noise_dataset_large.csv'\n",
    "df = pd.read_csv(file_path)\n",
    "df.head()"
   ]
  },
  {
   "cell_type": "markdown",
   "id": "73d33412",
   "metadata": {},
   "source": [
    "## 📊 2. Exploratory Data Analysis"
   ]
  },
  {
   "cell_type": "code",
   "execution_count": null,
   "id": "f1d08b89",
   "metadata": {},
   "outputs": [],
   "source": [
    "import matplotlib.pyplot as plt\n",
    "import seaborn as sns\n",
    "\n",
    "plt.figure(figsize=(10, 5))\n",
    "sns.histplot(df['dB_level'], bins=30, kde=True)\n",
    "plt.title('Distribution of Decibel Levels')\n",
    "plt.xlabel('dB Level')\n",
    "plt.ylabel('Frequency')\n",
    "plt.show()"
   ]
  },
  {
   "cell_type": "code",
   "execution_count": null,
   "id": "3b7ae37b",
   "metadata": {},
   "outputs": [],
   "source": [
    "sns.countplot(data=df, x='true_noise_type', order=df['true_noise_type'].value_counts().index)\n",
    "plt.title('Noise Type Distribution')\n",
    "plt.xticks(rotation=45)\n",
    "plt.show()"
   ]
  },
  {
   "cell_type": "markdown",
   "id": "78a1c37f",
   "metadata": {},
   "source": [
    "## 🎧 3. Feature Engineering"
   ]
  },
  {
   "cell_type": "code",
   "execution_count": null,
   "id": "f919c10e",
   "metadata": {},
   "outputs": [],
   "source": [
    "# Convert waveform strings to numpy arrays if needed\n",
    "df['waveform_array'] = df['waveform'].apply(eval).apply(lambda x: np.array(x))\n",
    "\n",
    "# Extract features from waveform (e.g., mean, std, energy)\n",
    "df['waveform_mean'] = df['waveform_array'].apply(np.mean)\n",
    "df['waveform_std'] = df['waveform_array'].apply(np.std)\n",
    "df['waveform_energy'] = df['waveform_array'].apply(lambda x: np.sum(x**2))\n",
    "df[['waveform_mean', 'waveform_std', 'waveform_energy']].describe()"
   ]
  },
  {
   "cell_type": "markdown",
   "id": "a236a6e1",
   "metadata": {},
   "source": [
    "## 🧠 4. Train a Classifier"
   ]
  },
  {
   "cell_type": "code",
   "execution_count": null,
   "id": "31a9956d",
   "metadata": {},
   "outputs": [],
   "source": [
    "from sklearn.model_selection import train_test_split\n",
    "from sklearn.ensemble import RandomForestClassifier\n",
    "from sklearn.metrics import classification_report\n",
    "\n",
    "X = df[['waveform_mean', 'waveform_std', 'waveform_energy']]\n",
    "y = df['true_noise_type']\n",
    "\n",
    "X_train, X_test, y_train, y_test = train_test_split(X, y, test_size=0.2, random_state=42)\n",
    "\n",
    "clf = RandomForestClassifier(n_estimators=100, random_state=42)\n",
    "clf.fit(X_train, y_train)\n",
    "y_pred = clf.predict(X_test)\n",
    "\n",
    "print(classification_report(y_test, y_pred))"
   ]
  },
  {
   "cell_type": "markdown",
   "id": "697ff264",
   "metadata": {},
   "source": [
    "## 💬 5. Sentiment Analysis"
   ]
  },
  {
   "cell_type": "code",
   "execution_count": null,
   "id": "6000233b",
   "metadata": {},
   "outputs": [],
   "source": [
    "from transformers import pipeline\n",
    "\n",
    "sentiment_pipeline = pipeline('sentiment-analysis')\n",
    "df['sentiment'] = df['feedback'].apply(lambda x: sentiment_pipeline(x)[0]['label'])\n",
    "df['sentiment_score'] = df['feedback'].apply(lambda x: sentiment_pipeline(x)[0]['score'] if sentiment_pipeline(x)[0]['label'] == 'POSITIVE' else -sentiment_pipeline(x)[0]['score'])\n",
    "df[['feedback', 'sentiment', 'sentiment_score']].head()"
   ]
  },
  {
   "cell_type": "markdown",
   "id": "f9b90088",
   "metadata": {},
   "source": [
    "## 📈 6. Correlation & Insights"
   ]
  },
  {
   "cell_type": "code",
   "execution_count": null,
   "id": "cd2d05b0",
   "metadata": {},
   "outputs": [],
   "source": [
    "sns.scatterplot(data=df, x='dB_level', y='sentiment_score', hue='true_noise_type')\n",
    "plt.title('Sentiment Score vs dB Level by Noise Type')\n",
    "plt.show()"
   ]
  },
  {
   "cell_type": "markdown",
   "id": "1a825fa5",
   "metadata": {},
   "source": [
    "## ✅ 7. Conclusion\n",
    "\n",
    "- Successfully simulated and analyzed urban noise data\n",
    "- Demonstrated feasibility of waveform-based noise classification\n",
    "- Extracted insights from citizen feedback using sentiment analysis\n",
    "\n",
    "**Next steps:** integrate with real IoT sensor data and deploy in a Streamlit app."
   ]
  }
 ],
 "metadata": {},
 "nbformat": 4,
 "nbformat_minor": 5
}